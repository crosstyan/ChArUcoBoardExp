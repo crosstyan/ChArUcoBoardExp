{
 "cells": [
  {
   "cell_type": "code",
   "execution_count": 129,
   "metadata": {},
   "outputs": [],
   "source": [
    "from dataclasses import dataclass\n",
    "import numpy as np\n",
    "from matplotlib import pyplot as plt\n",
    "\n",
    "NDArray = np.ndarray\n",
    "\n",
    "# Order of detection result\n",
    "# 0,   1,     2,    3\n",
    "# TL,  TR,    BR,   BL\n",
    "# RED, GREEN, BLUE, YELLOW\n",
    "\n",
    "\n",
    "@dataclass\n",
    "class DiamondBoardParameter:\n",
    "    marker_leghth: float\n",
    "    \"\"\"\n",
    "    the ArUco marker length in meter\n",
    "    \"\"\"\n",
    "    chess_length: float\n",
    "    \"\"\"\n",
    "    the length of the chess board in meter\n",
    "    \"\"\"\n",
    "    border_length: float = 0.01\n",
    "    \"\"\"\n",
    "    border_length in m, default is 1cm\n",
    "    \"\"\"\n",
    "\n",
    "    @property\n",
    "    def marker_border_length(self):\n",
    "        assert self.chess_length > self.marker_leghth\n",
    "        return (self.chess_length - self.marker_leghth) / 2\n",
    "\n",
    "    @property\n",
    "    def total_side_length(self):\n",
    "        assert self.chess_length > self.marker_leghth\n",
    "        return self.marker_border_length * 2 + self.chess_length * 3\n",
    "\n",
    "\n",
    "# 9mm + 127mm + 127mm (97mm marker) + 127mm + 10mm\n",
    "# i.e. marker boarder = 127mm - 97mm = 30mm (15mm each side)\n",
    "Point2D = tuple[float, float]\n",
    "Quad2D = tuple[Point2D, Point2D, Point2D, Point2D]\n",
    "\n",
    "\n",
    "@dataclass\n",
    "class ArUcoMarker2D:\n",
    "    id: int\n",
    "    corners: Quad2D\n",
    "    params: DiamondBoardParameter\n",
    "\n",
    "    @property\n",
    "    def np_corners(self):\n",
    "        \"\"\"\n",
    "        returns corners in numpy array\n",
    "        (4, 2) shape\n",
    "        \"\"\"\n",
    "        return np.array(self.corners, dtype=np.float32)\n",
    "\n",
    "\n",
    "# let's let TL be the origin\n",
    "def generate_diamond_corners(\n",
    "    ids: tuple[int, int, int, int], params: DiamondBoardParameter\n",
    "):\n",
    "    \"\"\"\n",
    "    A diamond chess board, which could be count as a kind of ChArUco board\n",
    "\n",
    "    C | 0 | C\n",
    "    ---------\n",
    "    1 | C | 2\n",
    "    ---------\n",
    "    C | 3 | C\n",
    "\n",
    "    where C is the chess box, and 0, 1, 2, 3 are the markers (whose ids are passed in order)\n",
    "\n",
    "    Args:\n",
    "        ids: a tuple of 4 ids of the markers\n",
    "        params: DiamondBoardParameter\n",
    "    \"\"\"\n",
    "\n",
    "    def tl_to_square(tl_x: float, tl_y: float, side_length: float) -> Quad2D:\n",
    "        return (\n",
    "            (tl_x, tl_y),\n",
    "            (tl_x + side_length, tl_y),\n",
    "            (tl_x + side_length, tl_y + side_length),\n",
    "            (tl_x, tl_y + side_length),\n",
    "        )\n",
    "\n",
    "    tl_0_x = params.border_length + params.chess_length + params.marker_border_length\n",
    "    tl_0_y = params.border_length + params.marker_border_length\n",
    "\n",
    "    tl_1_x = params.border_length + params.marker_border_length\n",
    "    tl_1_y = params.border_length + params.chess_length + params.marker_border_length\n",
    "\n",
    "    tl_2_x = (\n",
    "        params.border_length + params.chess_length * 2 + params.marker_border_length\n",
    "    )\n",
    "    tl_2_y = tl_1_y\n",
    "\n",
    "    tl_3_x = params.border_length + params.chess_length + params.marker_border_length\n",
    "    tl_3_y = (\n",
    "        params.border_length + params.chess_length * 2 + params.marker_border_length\n",
    "    )\n",
    "    return (\n",
    "        ArUcoMarker2D(ids[0], tl_to_square(tl_0_x, tl_0_y, params.marker_leghth), params),\n",
    "        ArUcoMarker2D(ids[1], tl_to_square(tl_1_x, tl_1_y, params.marker_leghth), params),\n",
    "        ArUcoMarker2D(ids[2], tl_to_square(tl_2_x, tl_2_y, params.marker_leghth), params),\n",
    "        ArUcoMarker2D(ids[3], tl_to_square(tl_3_x, tl_3_y, params.marker_leghth), params),\n",
    "    )\n"
   ]
  },
  {
   "cell_type": "code",
   "execution_count": 130,
   "metadata": {},
   "outputs": [
    {
     "data": {
      "image/png": "[encoded data removed]",
      "text/plain": [
       "<Figure size 640x480 with 1 Axes>"
      ]
     },
     "metadata": {},
     "output_type": "display_data"
    }
   ],
   "source": [
    "params = DiamondBoardParameter(0.097, 0.127)\n",
    "markers = generate_diamond_corners((16, 17, 18, 19), params)\n",
    "\n",
    "fig = plt.figure()\n",
    "ax = fig.gca()\n",
    "ax.set_xlim((0, params.total_side_length))\n",
    "ax.set_ylim((0, params.total_side_length)) # type: ignore\n",
    "ax.set_aspect(\"equal\")\n",
    "# set origin to top-left (from bottom-left)\n",
    "ax.invert_yaxis()\n",
    "ax.xaxis.set_ticks_position('top')\n",
    "\n",
    "for marker in markers:\n",
    "    plt.plot(*marker.np_corners.T, \"o-\", label=str(marker.id))\n",
    "    for i, (x, y) in enumerate(marker.corners):\n",
    "        ax.text(x, y, str(i))\n",
    "plt.legend()\n",
    "plt.show()"
   ]
  },
  {
   "cell_type": "code",
   "execution_count": 131,
   "metadata": {},
   "outputs": [],
   "source": [
    "from typing import Sequence\n",
    "import plotly.graph_objects as go\n",
    "import awkward as ak\n",
    "import cv2\n",
    "from cv2.typing import MatLike\n",
    "\n",
    "\n",
    "def transform_point(matrix: MatLike, point: MatLike):\n",
    "    assert matrix.shape == (4, 4)\n",
    "    assert point.shape == (3,)\n",
    "\n",
    "    # Lift point to 4D\n",
    "    homogeneous_point = np.array([point[0], point[1], point[2], 1])\n",
    "    # Apply transformation\n",
    "    transformed = matrix @ homogeneous_point\n",
    "    # Project back to 3D if w != 1\n",
    "    if transformed[3] != 1:\n",
    "        transformed = transformed / transformed[3]\n",
    "    return transformed[:3]\n",
    "\n",
    "\n",
    "class DiamondPlane3D:\n",
    "    _ids: NDArray\n",
    "    \"\"\"\n",
    "    (n,)\n",
    "    \"\"\"\n",
    "    _corners: NDArray\n",
    "    \"\"\"\n",
    "    (n, 4, 3)\n",
    "    \"\"\"\n",
    "    _transform_matrix: NDArray\n",
    "    \"\"\"\n",
    "    4x4 transformation matrix\n",
    "    \"\"\"\n",
    "    _normal_vector: NDArray\n",
    "    \"\"\"\n",
    "    (2, 3)\n",
    "    start (the center of the plane) and end (the normal vector), length 1\n",
    "    \"\"\"\n",
    "\n",
    "    def __init__(self, items: Sequence[ArUcoMarker2D]):\n",
    "        self._ids = np.array([item.id for item in items])\n",
    "        # (n, 4, 2)\n",
    "        corners_2d = np.array([item.np_corners for item in items])\n",
    "        # (n, 4, 3)\n",
    "        self._corners = np.concatenate(\n",
    "            [corners_2d, np.zeros((corners_2d.shape[0], 4, 1))], axis=-1\n",
    "        )\n",
    "        self._transform_matrix = np.eye(4)\n",
    "\n",
    "        def center(items: Sequence[ArUcoMarker2D]):\n",
    "            return np.mean([item.np_corners for item in items], axis=(0, 1))\n",
    "\n",
    "        c = center(items)\n",
    "        assert c.shape == (2,)\n",
    "        self._normal_vector = np.array([(c[0], c[1], 0), (c[0], c[1], 0.1)])\n",
    "\n",
    "    @property\n",
    "    def ids(self):\n",
    "        return self._ids\n",
    "\n",
    "    @property\n",
    "    def corners(self):\n",
    "        return self._corners\n",
    "\n",
    "    @property\n",
    "    def transform_matrix(self):\n",
    "        return self._transform_matrix\n",
    "\n",
    "    @property\n",
    "    def transformed_corners(self):\n",
    "        def g():\n",
    "            for corner in self.corners:\n",
    "                yield np.array(\n",
    "                    [transform_point(self.transform_matrix, c) for c in corner]\n",
    "                )\n",
    "\n",
    "        return np.array(list(g()))\n",
    "\n",
    "    @property\n",
    "    def transformed_normal_vector(self):\n",
    "        def g():\n",
    "            for v in self._normal_vector:\n",
    "                yield transform_point(self.transform_matrix, v)\n",
    "\n",
    "        return np.array(list(g()))\n",
    "\n",
    "    @property\n",
    "    def transformed_geometry_center(self):\n",
    "        return np.mean(self.transformed_corners, axis=(0, 1))\n",
    "\n",
    "    def local_rotate(self, angle: float, axis: NDArray):\n",
    "        \"\"\"\n",
    "        rotate the plane by angle (in radian) around local center\n",
    "\n",
    "        Args:\n",
    "            angle: in radian\n",
    "            axis: (3,)\n",
    "\n",
    "        change basis to local basis, rotate, then change back\n",
    "        \"\"\"\n",
    "        raise NotImplementedError\n",
    "\n",
    "    def rotate(self, angle: float, axis: NDArray):\n",
    "        \"\"\"\n",
    "        rotate the plane by angle (in radian) around the axis\n",
    "        \"\"\"\n",
    "        assert axis.shape == (3,)\n",
    "        rot_mat = cv2.Rodrigues(axis * angle)[0]\n",
    "        self._transform_matrix[:3, :3] = np.dot(rot_mat, self._transform_matrix[:3, :3])\n",
    "\n",
    "    def translate(self, vec: NDArray):\n",
    "        \"\"\"\n",
    "        translate the plane by vec\n",
    "        \"\"\"\n",
    "        assert vec.shape == (3,)\n",
    "        self._transform_matrix[:3, 3] += vec\n",
    "\n",
    "    def set_transform_matrix(self, mat: NDArray):\n",
    "        assert mat.shape == (4, 4)\n",
    "        self._transform_matrix = mat"
   ]
  },
  {
   "cell_type": "code",
   "execution_count": 132,
   "metadata": {},
   "outputs": [],
   "source": [
    "plane_a = DiamondPlane3D(markers)\n",
    "\n",
    "markers_b = generate_diamond_corners((20, 21, 22, 23), params)\n",
    "plane_b = DiamondPlane3D(markers_b)\n",
    "# plane_b.translate(np.array([0, 0, 0.1]))\n",
    "plane_b.rotate(np.pi/2, np.array([1, 0, 0]))\n",
    "plane_b.rotate(np.pi, np.array([0, 0, 1]))\n",
    "tmp_c = plane_b.transformed_geometry_center\n",
    "plane_b.translate(-tmp_c)\n",
    "plane_b.rotate(np.pi, np.array([0, 1, 0]))\n",
    "plane_b.translate(tmp_c)\n",
    "plane_b.translate(np.array([0, 0, params.total_side_length]))\n",
    "\n",
    "markers_c = generate_diamond_corners((24, 25, 26, 27), params)\n",
    "plane_c = DiamondPlane3D(markers_c)\n",
    "tmp = plane_c.transformed_geometry_center\n",
    "plane_c.translate(-tmp)\n",
    "plane_c.rotate(-np.pi/2, np.array([0, 0, 1]))\n",
    "plane_c.translate(tmp)\n",
    "plane_c.translate(np.array([0, params.total_side_length-params.border_length, 0]))\n",
    "plane_c.rotate(np.pi/2, np.array([0, 1, 0]))\n",
    "plane_c.translate(np.array([0, 0, params.total_side_length]))"
   ]
  },
  {
   "cell_type": "code",
   "execution_count": 134,
   "metadata": {},
   "outputs": [
    {
     "name": "stdout",
     "output_type": "stream",
     "text": [
      "[[0.2005     0.20049998 0.        ]\n",
      " [0.2005     0.20049998 0.1       ]]\n"
     ]
    },
    {
     "data": {
      "application/vnd.plotly.v1+json": {
       "config": {
        "plotlyServerURL": "https://plot.ly"
       },
       "data": [
        {
         "marker": {
          "size": 1
         },
         "mode": "markers+lines+text",
         "name": "16",
         "text": [
          "0",
          "1",
          "2",
          "3"
         ],
         "type": "scatter3d",
         "x": [
          0.15199999511241913,
          0.24899999797344208,
          0.24899999797344208,
          0.15199999511241913
         ],
         "y": [
          0.02500000037252903,
          0.02500000037252903,
          0.12200000137090683,
          0.12200000137090683
         ],
         "z": [
          0,
          0,
          0,
          0
         ]
        },
        {
         "marker": {
          "size": 1
         },
         "mode": "markers+lines+text",
         "name": "17",
         "text": [
          "0",
          "1",
          "2",
          "3"
         ],
         "type": "scatter3d",
         "x": [
          0.02500000037252903,
          0.12200000137090683,
          0.12200000137090683,
          0.02500000037252903
         ],
         "y": [
          0.15199999511241913,
          0.15199999511241913,
          0.24899999797344208,
          0.24899999797344208
         ],
         "z": [
          0,
          0,
          0,
          0
         ]
        },
        {
         "marker": {
          "size": 1
         },
         "mode": "markers+lines+text",
         "name": "18",
         "text": [
          "0",
          "1",
          "2",
          "3"
         ],
         "type": "scatter3d",
         "x": [
          0.27900001406669617,
          0.37599998712539673,
          0.37599998712539673,
          0.27900001406669617
         ],
         "y": [
          0.15199999511241913,
          0.15199999511241913,
          0.24899999797344208,
          0.24899999797344208
         ],
         "z": [
          0,
          0,
          0,
          0
         ]
        },
        {
         "marker": {
          "size": 1
         },
         "mode": "markers+lines+text",
         "name": "19",
         "text": [
          "0",
          "1",
          "2",
          "3"
         ],
         "type": "scatter3d",
         "x": [
          0.15199999511241913,
          0.24899999797344208,
          0.24899999797344208,
          0.15199999511241913
         ],
         "y": [
          0.27900001406669617,
          0.27900001406669617,
          0.37599998712539673,
          0.37599998712539673
         ],
         "z": [
          0,
          0,
          0,
          0
         ]
        },
        {
         "marker": {
          "size": 2
         },
         "mode": "markers+lines",
         "name": "normal_a",
         "type": "scatter3d",
         "x": [
          0.2004999965429306,
          0.2004999965429306
         ],
         "y": [
          0.2004999816417694,
          0.2004999816417694
         ],
         "z": [
          0,
          0.1
         ]
        },
        {
         "marker": {
          "size": 1
         },
         "mode": "markers+lines+text",
         "name": "20",
         "text": "20",
         "type": "scatter3d",
         "x": [
          0.15199999511241913,
          0.24899999797344208,
          0.2489999979734421,
          0.15199999511241916
         ],
         "y": [
          1.7083822226738725e-17,
          2.8962896528842315e-17,
          2.3023359491844643e-17,
          1.1144285189741054e-17
         ],
         "z": [
          0.385999999627471,
          0.38599999962747106,
          0.28899999862909326,
          0.2889999986290932
         ]
        },
        {
         "marker": {
          "size": 1
         },
         "mode": "markers+lines+text",
         "name": "21",
         "text": "21",
         "type": "scatter3d",
         "x": [
          0.025000000372529047,
          0.12200000137090684,
          0.12200000137090686,
          0.02500000037252906
         ],
         "y": [
          -6.245698330751839e-18,
          5.633375743243504e-18,
          -3.061614078082899e-19,
          -1.2185235481803633e-17
         ],
         "z": [
          0.2590000048875809,
          0.2590000048875809,
          0.16200000202655798,
          0.16200000202655795
         ]
        },
        {
         "marker": {
          "size": 1
         },
         "mode": "markers+lines+text",
         "name": "22",
         "text": "22",
         "type": "scatter3d",
         "x": [
          0.27900001406669617,
          0.37599998712539673,
          0.3759999871253968,
          0.2790000140666962
         ],
         "y": [
          2.4860332044642726e-17,
          3.6739402697014446e-17,
          3.079986554596265e-17,
          1.892079489359093e-17
         ],
         "z": [
          0.25900000488758096,
          0.25900000488758096,
          0.162000002026558,
          0.16200000202655798
         ]
        },
        {
         "marker": {
          "size": 1
         },
         "mode": "markers+lines+text",
         "name": "23",
         "text": "23",
         "type": "scatter3d",
         "x": [
          0.15199999511241916,
          0.2489999979734421,
          0.24899999797344213,
          0.15199999511241918
         ],
         "y": [
          1.5308070390414434e-18,
          1.340988134114503e-17,
          7.470346014959171e-18,
          -4.408728287144416e-18
         ],
         "z": [
          0.1319999859333039,
          0.1319999859333039,
          0.03500001287460333,
          0.035000012874603324
         ]
        },
        {
         "marker": {
          "size": 2
         },
         "mode": "markers+lines",
         "name": "normal_b",
         "type": "scatter3d",
         "x": [
          0.20049999654293063,
          0.20049999654293063
         ],
         "y": [
          1.2277084862200734e-17,
          0.10000000000000002
         ],
         "z": [
          0.21050001835823065,
          0.21050001835823065
         ]
        },
        {
         "marker": {
          "size": 1
         },
         "mode": "markers+lines+text",
         "name": "24",
         "text": "24",
         "type": "scatter3d",
         "x": [
          1.5308085217450162e-18,
          1.5308085217450166e-18,
          7.470345558742689e-18,
          7.470345558742687e-18
         ],
         "y": [
          0.2490000048875809,
          0.15200000202655795,
          0.15200000202655795,
          0.2490000048875809
         ],
         "z": [
          0.385999999627471,
          0.385999999627471,
          0.2889999986290932,
          0.2889999986290932
         ]
        },
        {
         "marker": {
          "size": 1
         },
         "mode": "markers+lines+text",
         "name": "25",
         "text": "25",
         "type": "scatter3d",
         "x": [
          9.30731537424187e-18,
          9.30731537424187e-18,
          1.5246852525293664e-17,
          1.5246852525293664e-17
         ],
         "y": [
          0.375999999627471,
          0.2789999986290932,
          0.2789999986290932,
          0.375999999627471
         ],
         "z": [
          0.2590000048875809,
          0.2590000048875809,
          0.16200000202655795,
          0.16200000202655795
         ]
        },
        {
         "marker": {
          "size": 1
         },
         "mode": "markers+lines+text",
         "name": "26",
         "text": "26",
         "type": "scatter3d",
         "x": [
          9.307315374241872e-18,
          9.307315374241872e-18,
          1.5246852525293664e-17,
          1.5246852525293664e-17
         ],
         "y": [
          0.12199998593330386,
          0.025000012874603295,
          0.025000012874603295,
          0.12199998593330386
         ],
         "z": [
          0.2590000048875809,
          0.2590000048875809,
          0.16200000202655793,
          0.16200000202655793
         ]
        },
        {
         "marker": {
          "size": 1
         },
         "mode": "markers+lines+text",
         "name": "27",
         "text": "27",
         "type": "scatter3d",
         "x": [
          1.7083823709442298e-17,
          1.7083823709442298e-17,
          2.3023359035628157e-17,
          2.3023359035628157e-17
         ],
         "y": [
          0.2490000048875809,
          0.15200000202655795,
          0.15200000202655795,
          0.2490000048875809
         ],
         "z": [
          0.13199998593330386,
          0.13199998593330384,
          0.03500001287460329,
          0.035000012874603297
         ]
        },
        {
         "marker": {
          "size": 2
         },
         "mode": "markers+lines",
         "name": "normal_c",
         "type": "scatter3d",
         "x": [
          1.2277083037334799e-17,
          0.10000000000000002
         ],
         "y": [
          0.20050000345706942,
          0.20050000345706942
         ],
         "z": [
          0.21050001835823062,
          0.21050001835823062
         ]
        }
       ],
       "layout": {
        "scene": {
         "aspectmode": "cube",
         "xaxis": {
          "range": [
           -0.1,
           0.41100000000000003
          ]
         },
         "yaxis": {
          "range": [
           0.41100000000000003,
           -0.1
          ]
         },
         "zaxis": {
          "range": [
           -0.1,
           0.41100000000000003
          ]
         }
        },
        "template": {
         "data": {
          "bar": [
           {
            "error_x": {
             "color": "#2a3f5f"
            },
            "error_y": {
             "color": "#2a3f5f"
            },
            "marker": {
             "line": {
              "color": "#E5ECF6",
              "width": 0.5
             },
             "pattern": {
              "fillmode": "overlay",
              "size": 10,
              "solidity": 0.2
             }
            },
            "type": "bar"
           }
          ],
          "barpolar": [
           {
            "marker": {
             "line": {
              "color": "#E5ECF6",
              "width": 0.5
             },
             "pattern": {
              "fillmode": "overlay",
              "size": 10,
              "solidity": 0.2
             }
            },
            "type": "barpolar"
           }
          ],
          "carpet": [
           {
            "aaxis": {
             "endlinecolor": "#2a3f5f",
             "gridcolor": "white",
             "linecolor": "white",
             "minorgridcolor": "white",
             "startlinecolor": "#2a3f5f"
            },
            "baxis": {
             "endlinecolor": "#2a3f5f",
             "gridcolor": "white",
             "linecolor": "white",
             "minorgridcolor": "white",
             "startlinecolor": "#2a3f5f"
            },
            "type": "carpet"
           }
          ],
          "choropleth": [
           {
            "colorbar": {
             "outlinewidth": 0,
             "ticks": ""
            },
            "type": "choropleth"
           }
          ],
          "contour": [
           {
            "colorbar": {
             "outlinewidth": 0,
             "ticks": ""
            },
            "colorscale": [
             [
              0,
              "#0d0887"
             ],
             [
              0.1111111111111111,
              "#46039f"
             ],
             [
              0.2222222222222222,
              "#7201a8"
             ],
             [
              0.3333333333333333,
              "#9c179e"
             ],
             [
              0.4444444444444444,
              "#bd3786"
             ],
             [
              0.5555555555555556,
              "#d8576b"
             ],
             [
              0.6666666666666666,
              "#ed7953"
             ],
             [
              0.7777777777777778,
              "#fb9f3a"
             ],
             [
              0.8888888888888888,
              "#fdca26"
             ],
             [
              1,
              "#f0f921"
             ]
            ],
            "type": "contour"
           }
          ],
          "contourcarpet": [
           {
            "colorbar": {
             "outlinewidth": 0,
             "ticks": ""
            },
            "type": "contourcarpet"
           }
          ],
          "heatmap": [
           {
            "colorbar": {
             "outlinewidth": 0,
             "ticks": ""
            },
            "colorscale": [
             [
              0,
              "#0d0887"
             ],
             [
              0.1111111111111111,
              "#46039f"
             ],
             [
              0.2222222222222222,
              "#7201a8"
             ],
             [
              0.3333333333333333,
              "#9c179e"
             ],
             [
              0.4444444444444444,
              "#bd3786"
             ],
             [
              0.5555555555555556,
              "#d8576b"
             ],
             [
              0.6666666666666666,
              "#ed7953"
             ],
             [
              0.7777777777777778,
              "#fb9f3a"
             ],
             [
              0.8888888888888888,
              "#fdca26"
             ],
             [
              1,
              "#f0f921"
             ]
            ],
            "type": "heatmap"
           }
          ],
          "heatmapgl": [
           {
            "colorbar": {
             "outlinewidth": 0,
             "ticks": ""
            },
            "colorscale": [
             [
              0,
              "#0d0887"
             ],
             [
              0.1111111111111111,
              "#46039f"
             ],
             [
              0.2222222222222222,
              "#7201a8"
             ],
             [
              0.3333333333333333,
              "#9c179e"
             ],
             [
              0.4444444444444444,
              "#bd3786"
             ],
             [
              0.5555555555555556,
              "#d8576b"
             ],
             [
              0.6666666666666666,
              "#ed7953"
             ],
             [
              0.7777777777777778,
              "#fb9f3a"
             ],
             [
              0.8888888888888888,
              "#fdca26"
             ],
             [
              1,
              "#f0f921"
             ]
            ],
            "type": "heatmapgl"
           }
          ],
          "histogram": [
           {
            "marker": {
             "pattern": {
              "fillmode": "overlay",
              "size": 10,
              "solidity": 0.2
             }
            },
            "type": "histogram"
           }
          ],
          "histogram2d": [
           {
            "colorbar": {
             "outlinewidth": 0,
             "ticks": ""
            },
            "colorscale": [
             [
              0,
              "#0d0887"
             ],
             [
              0.1111111111111111,
              "#46039f"
             ],
             [
              0.2222222222222222,
              "#7201a8"
             ],
             [
              0.3333333333333333,
              "#9c179e"
             ],
             [
              0.4444444444444444,
              "#bd3786"
             ],
             [
              0.5555555555555556,
              "#d8576b"
             ],
             [
              0.6666666666666666,
              "#ed7953"
             ],
             [
              0.7777777777777778,
              "#fb9f3a"
             ],
             [
              0.8888888888888888,
              "#fdca26"
             ],
             [
              1,
              "#f0f921"
             ]
            ],
            "type": "histogram2d"
           }
          ],
          "histogram2dcontour": [
           {
            "colorbar": {
             "outlinewidth": 0,
             "ticks": ""
            },
            "colorscale": [
             [
              0,
              "#0d0887"
             ],
             [
              0.1111111111111111,
              "#46039f"
             ],
             [
              0.2222222222222222,
              "#7201a8"
             ],
             [
              0.3333333333333333,
              "#9c179e"
             ],
             [
              0.4444444444444444,
              "#bd3786"
             ],
             [
              0.5555555555555556,
              "#d8576b"
             ],
             [
              0.6666666666666666,
              "#ed7953"
             ],
             [
              0.7777777777777778,
              "#fb9f3a"
             ],
             [
              0.8888888888888888,
              "#fdca26"
             ],
             [
              1,
              "#f0f921"
             ]
            ],
            "type": "histogram2dcontour"
           }
          ],
          "mesh3d": [
           {
            "colorbar": {
             "outlinewidth": 0,
             "ticks": ""
            },
            "type": "mesh3d"
           }
          ],
          "parcoords": [
           {
            "line": {
             "colorbar": {
              "outlinewidth": 0,
              "ticks": ""
             }
            },
            "type": "parcoords"
           }
          ],
          "pie": [
           {
            "automargin": true,
            "type": "pie"
           }
          ],
          "scatter": [
           {
            "fillpattern": {
             "fillmode": "overlay",
             "size": 10,
             "solidity": 0.2
            },
            "type": "scatter"
           }
          ],
          "scatter3d": [
           {
            "line": {
             "colorbar": {
              "outlinewidth": 0,
              "ticks": ""
             }
            },
            "marker": {
             "colorbar": {
              "outlinewidth": 0,
              "ticks": ""
             }
            },
            "type": "scatter3d"
           }
          ],
          "scattercarpet": [
           {
            "marker": {
             "colorbar": {
              "outlinewidth": 0,
              "ticks": ""
             }
            },
            "type": "scattercarpet"
           }
          ],
          "scattergeo": [
           {
            "marker": {
             "colorbar": {
              "outlinewidth": 0,
              "ticks": ""
             }
            },
            "type": "scattergeo"
           }
          ],
          "scattergl": [
           {
            "marker": {
             "colorbar": {
              "outlinewidth": 0,
              "ticks": ""
             }
            },
            "type": "scattergl"
           }
          ],
          "scattermapbox": [
           {
            "marker": {
             "colorbar": {
              "outlinewidth": 0,
              "ticks": ""
             }
            },
            "type": "scattermapbox"
           }
          ],
          "scatterpolar": [
           {
            "marker": {
             "colorbar": {
              "outlinewidth": 0,
              "ticks": ""
             }
            },
            "type": "scatterpolar"
           }
          ],
          "scatterpolargl": [
           {
            "marker": {
             "colorbar": {
              "outlinewidth": 0,
              "ticks": ""
             }
            },
            "type": "scatterpolargl"
           }
          ],
          "scatterternary": [
           {
            "marker": {
             "colorbar": {
              "outlinewidth": 0,
              "ticks": ""
             }
            },
            "type": "scatterternary"
           }
          ],
          "surface": [
           {
            "colorbar": {
             "outlinewidth": 0,
             "ticks": ""
            },
            "colorscale": [
             [
              0,
              "#0d0887"
             ],
             [
              0.1111111111111111,
              "#46039f"
             ],
             [
              0.2222222222222222,
              "#7201a8"
             ],
             [
              0.3333333333333333,
              "#9c179e"
             ],
             [
              0.4444444444444444,
              "#bd3786"
             ],
             [
              0.5555555555555556,
              "#d8576b"
             ],
             [
              0.6666666666666666,
              "#ed7953"
             ],
             [
              0.7777777777777778,
              "#fb9f3a"
             ],
             [
              0.8888888888888888,
              "#fdca26"
             ],
             [
              1,
              "#f0f921"
             ]
            ],
            "type": "surface"
           }
          ],
          "table": [
           {
            "cells": {
             "fill": {
              "color": "#EBF0F8"
             },
             "line": {
              "color": "white"
             }
            },
            "header": {
             "fill": {
              "color": "#C8D4E3"
             },
             "line": {
              "color": "white"
             }
            },
            "type": "table"
           }
          ]
         },
         "layout": {
          "annotationdefaults": {
           "arrowcolor": "#2a3f5f",
           "arrowhead": 0,
           "arrowwidth": 1
          },
          "autotypenumbers": "strict",
          "coloraxis": {
           "colorbar": {
            "outlinewidth": 0,
            "ticks": ""
           }
          },
          "colorscale": {
           "diverging": [
            [
             0,
             "#8e0152"
            ],
            [
             0.1,
             "#c51b7d"
            ],
            [
             0.2,
             "#de77ae"
            ],
            [
             0.3,
             "#f1b6da"
            ],
            [
             0.4,
             "#fde0ef"
            ],
            [
             0.5,
             "#f7f7f7"
            ],
            [
             0.6,
             "#e6f5d0"
            ],
            [
             0.7,
             "#b8e186"
            ],
            [
             0.8,
             "#7fbc41"
            ],
            [
             0.9,
             "#4d9221"
            ],
            [
             1,
             "#276419"
            ]
           ],
           "sequential": [
            [
             0,
             "#0d0887"
            ],
            [
             0.1111111111111111,
             "#46039f"
            ],
            [
             0.2222222222222222,
             "#7201a8"
            ],
            [
             0.3333333333333333,
             "#9c179e"
            ],
            [
             0.4444444444444444,
             "#bd3786"
            ],
            [
             0.5555555555555556,
             "#d8576b"
            ],
            [
             0.6666666666666666,
             "#ed7953"
            ],
            [
             0.7777777777777778,
             "#fb9f3a"
            ],
            [
             0.8888888888888888,
             "#fdca26"
            ],
            [
             1,
             "#f0f921"
            ]
           ],
           "sequentialminus": [
            [
             0,
             "#0d0887"
            ],
            [
             0.1111111111111111,
             "#46039f"
            ],
            [
             0.2222222222222222,
             "#7201a8"
            ],
            [
             0.3333333333333333,
             "#9c179e"
            ],
            [
             0.4444444444444444,
             "#bd3786"
            ],
            [
             0.5555555555555556,
             "#d8576b"
            ],
            [
             0.6666666666666666,
             "#ed7953"
            ],
            [
             0.7777777777777778,
             "#fb9f3a"
            ],
            [
             0.8888888888888888,
             "#fdca26"
            ],
            [
             1,
             "#f0f921"
            ]
           ]
          },
          "colorway": [
           "#636efa",
           "#EF553B",
           "#00cc96",
           "#ab63fa",
           "#FFA15A",
           "#19d3f3",
           "#FF6692",
           "#B6E880",
           "#FF97FF",
           "#FECB52"
          ],
          "font": {
           "color": "#2a3f5f"
          },
          "geo": {
           "bgcolor": "white",
           "lakecolor": "white",
           "landcolor": "#E5ECF6",
           "showlakes": true,
           "showland": true,
           "subunitcolor": "white"
          },
          "hoverlabel": {
           "align": "left"
          },
          "hovermode": "closest",
          "mapbox": {
           "style": "light"
          },
          "paper_bgcolor": "white",
          "plot_bgcolor": "#E5ECF6",
          "polar": {
           "angularaxis": {
            "gridcolor": "white",
            "linecolor": "white",
            "ticks": ""
           },
           "bgcolor": "#E5ECF6",
           "radialaxis": {
            "gridcolor": "white",
            "linecolor": "white",
            "ticks": ""
           }
          },
          "scene": {
           "xaxis": {
            "backgroundcolor": "#E5ECF6",
            "gridcolor": "white",
            "gridwidth": 2,
            "linecolor": "white",
            "showbackground": true,
            "ticks": "",
            "zerolinecolor": "white"
           },
           "yaxis": {
            "backgroundcolor": "#E5ECF6",
            "gridcolor": "white",
            "gridwidth": 2,
            "linecolor": "white",
            "showbackground": true,
            "ticks": "",
            "zerolinecolor": "white"
           },
           "zaxis": {
            "backgroundcolor": "#E5ECF6",
            "gridcolor": "white",
            "gridwidth": 2,
            "linecolor": "white",
            "showbackground": true,
            "ticks": "",
            "zerolinecolor": "white"
           }
          },
          "shapedefaults": {
           "line": {
            "color": "#2a3f5f"
           }
          },
          "ternary": {
           "aaxis": {
            "gridcolor": "white",
            "linecolor": "white",
            "ticks": ""
           },
           "baxis": {
            "gridcolor": "white",
            "linecolor": "white",
            "ticks": ""
           },
           "bgcolor": "#E5ECF6",
           "caxis": {
            "gridcolor": "white",
            "linecolor": "white",
            "ticks": ""
           }
          },
          "title": {
           "x": 0.05
          },
          "xaxis": {
           "automargin": true,
           "gridcolor": "white",
           "linecolor": "white",
           "ticks": "",
           "title": {
            "standoff": 15
           },
           "zerolinecolor": "white",
           "zerolinewidth": 2
          },
          "yaxis": {
           "automargin": true,
           "gridcolor": "white",
           "linecolor": "white",
           "ticks": "",
           "title": {
            "standoff": 15
           },
           "zerolinecolor": "white",
           "zerolinewidth": 2
          }
         }
        }
       }
      }
     },
     "metadata": {},
     "output_type": "display_data"
    }
   ],
   "source": [
    "fig = go.Figure()\n",
    "t_corners = plane_a.transformed_corners\n",
    "for i, corners in enumerate(t_corners):\n",
    "    fig.add_trace(\n",
    "        go.Scatter3d(\n",
    "            x=corners[:, 0],\n",
    "            y=corners[:, 1],\n",
    "            z=corners[:, 2],\n",
    "            mode=\"markers+lines+text\",\n",
    "            text=list(range(4)),\n",
    "            name=str(plane_a.ids[i]),\n",
    "            marker=dict(size=1),\n",
    "        )\n",
    "    )\n",
    "\n",
    "print(plane_a.transformed_normal_vector)\n",
    "# normal vector\n",
    "fig.add_trace(\n",
    "    go.Scatter3d(\n",
    "        x=plane_a.transformed_normal_vector[:, 0],\n",
    "        y=plane_a.transformed_normal_vector[:, 1],\n",
    "        z=plane_a.transformed_normal_vector[:, 2],\n",
    "        mode=\"markers+lines\",\n",
    "        name=\"normal_a\",\n",
    "        marker=dict(size=2),\n",
    "    )\n",
    ")\n",
    "\n",
    "t_corners_b = plane_b.transformed_corners\n",
    "for i, corners in enumerate(t_corners_b):\n",
    "    fig.add_trace(\n",
    "        go.Scatter3d(\n",
    "            x=corners[:, 0],\n",
    "            y=corners[:, 1],\n",
    "            z=corners[:, 2],\n",
    "            mode=\"markers+lines+text\",\n",
    "            text=str(plane_b.ids[i]),\n",
    "            name=str(plane_b.ids[i]),\n",
    "            marker=dict(size=1),\n",
    "        )\n",
    "    )\n",
    "fig.add_trace(\n",
    "    go.Scatter3d(\n",
    "        x=plane_b.transformed_normal_vector[:, 0],\n",
    "        y=plane_b.transformed_normal_vector[:, 1],\n",
    "        z=plane_b.transformed_normal_vector[:, 2],\n",
    "        mode=\"markers+lines\",\n",
    "        name=\"normal_b\",\n",
    "        marker=dict(size=2),\n",
    "    )\n",
    ")\n",
    "\n",
    "t_corners_c = plane_c.transformed_corners\n",
    "for i, corners in enumerate(t_corners_c):\n",
    "    fig.add_trace(\n",
    "        go.Scatter3d(\n",
    "            x=corners[:, 0],\n",
    "            y=corners[:, 1],\n",
    "            z=corners[:, 2],\n",
    "            mode=\"markers+lines+text\",\n",
    "            text=str(plane_c.ids[i]),\n",
    "            name=str(plane_c.ids[i]),\n",
    "            marker=dict(size=1),\n",
    "        )\n",
    "    )\n",
    "fig.add_trace(\n",
    "    go.Scatter3d(\n",
    "        x=plane_c.transformed_normal_vector[:, 0],\n",
    "        y=plane_c.transformed_normal_vector[:, 1],\n",
    "        z=plane_c.transformed_normal_vector[:, 2],\n",
    "        mode=\"markers+lines\",\n",
    "        name=\"normal_c\",\n",
    "        marker=dict(size=2),\n",
    "    )\n",
    ")\n",
    "\n",
    "# fig.update_layout(\n",
    "#     scene=dict(\n",
    "#         aspectmode=\"cube\",\n",
    "#         yaxis_autorange=\"reversed\",\n",
    "#     )\n",
    "# )\n",
    "\n",
    "fig.update_layout(\n",
    "    scene=dict(\n",
    "        aspectmode='cube',\n",
    "        xaxis=dict(range=[-0.1, params.total_side_length]),\n",
    "        yaxis=dict(range=[params.total_side_length, -0.1]),\n",
    "        zaxis=dict(range=[-0.1, params.total_side_length]),\n",
    "    )\n",
    ")\n",
    "fig.show()"
   ]
  }
 ],
 "metadata": {
  "kernelspec": {
   "display_name": "Python 3",
   "language": "python",
   "name": "python3"
  },
  "language_info": {
   "codemirror_mode": {
    "name": "ipython",
    "version": 3
   },
   "file_extension": ".py",
   "mimetype": "text/x-python",
   "name": "python",
   "nbconvert_exporter": "python",
   "pygments_lexer": "ipython3",
   "version": "3.12.8"
  }
 },
 "nbformat": 4,
 "nbformat_minor": 2
}
