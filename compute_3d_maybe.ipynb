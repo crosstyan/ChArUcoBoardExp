{
 "cells": [
  {
   "cell_type": "code",
   "execution_count": 22,
   "metadata": {},
   "outputs": [],
   "source": [
    "import awkward as ak\n",
    "from awkward import Array as AwakwardArray, Record as AwkwardRecord\n",
    "from typing import cast\n",
    "import numpy as np"
   ]
  },
  {
   "cell_type": "code",
   "execution_count": 23,
   "metadata": {},
   "outputs": [
    {
     "data": {
      "text/html": [
       "<pre>[{prediction: None, trackings: [], frame_num: 0, ...},\n",
       " {prediction: None, trackings: [], frame_num: 1, ...},\n",
       " {prediction: None, trackings: [], frame_num: 2, ...},\n",
       " {prediction: None, trackings: [], frame_num: 3, ...},\n",
       " {prediction: None, trackings: [], frame_num: 4, ...},\n",
       " {prediction: None, trackings: [], frame_num: 5, ...},\n",
       " {prediction: None, trackings: [], frame_num: 6, ...},\n",
       " {prediction: None, trackings: [], frame_num: 7, ...},\n",
       " {prediction: None, trackings: [], frame_num: 8, ...},\n",
       " {prediction: {Akeypoints: [[...]], ...}, trackings: [{...}], ...},\n",
       " ...,\n",
       " {prediction: {Akeypoints: [[...]], ...}, trackings: [{...}], ...},\n",
       " {prediction: {Akeypoints: [[...]], ...}, trackings: [{...}], ...},\n",
       " {prediction: {Akeypoints: [[...]], ...}, trackings: [{...}], ...},\n",
       " {prediction: {Akeypoints: [[...]], ...}, trackings: [{...}], ...},\n",
       " {prediction: {Akeypoints: [[...]], ...}, trackings: [{...}], ...},\n",
       " {prediction: {Akeypoints: [[...]], ...}, trackings: [{...}], ...},\n",
       " {prediction: {Akeypoints: [[...]], ...}, trackings: [{...}], ...},\n",
       " {prediction: {Akeypoints: [[...]], ...}, trackings: [{...}], ...},\n",
       " {prediction: {Akeypoints: [[...]], ...}, trackings: [{...}], ...}]\n",
       "-------------------------------------------------------------------\n",
       "type: 808 * {\n",
       "    prediction: ?{\n",
       "        Akeypoints: var * var * var * float64,\n",
       "        bboxes: var * var * float64,\n",
       "        scores: var * var * var * float64,\n",
       "        frame_number: int64,\n",
       "        reference_frame_size: {\n",
       "            &quot;0&quot;: int64,\n",
       "            &quot;1&quot;: int64\n",
       "        }\n",
       "    },\n",
       "    trackings: var * {\n",
       "        id: int64,\n",
       "        bounding_boxes: var * var * float64\n",
       "    },\n",
       "    frame_num: int64,\n",
       "    reference_frame_size: {\n",
       "        height: int64,\n",
       "        width: int64\n",
       "    }\n",
       "}</pre>"
      ],
      "text/plain": [
       "<Array [{prediction: None, ...}, ..., {...}] type='808 * {prediction: ?{Ake...'>"
      ]
     },
     "metadata": {},
     "output_type": "display_data"
    }
   ],
   "source": [
    "a_ak = ak.from_parquet(\"pose/a.parquet\")\n",
    "b_ak = ak.from_parquet(\"pose/b.parquet\")\n",
    "# display(a_ak)\n",
    "display(b_ak)"
   ]
  },
  {
   "cell_type": "code",
   "execution_count": 24,
   "metadata": {},
   "outputs": [
    {
     "data": {
      "text/html": [
       "<pre>{Akeypoints: [[[893, 417], [898, 408], [...], ..., [782, 596], [785, 599]]],\n",
       " bboxes: [[756, 341, 940, 597]],\n",
       " scores: [[[0.907], [0.896], [0.916], [0.341], ..., [0.811], [0.835], [0.802]]],\n",
       " frame_number: 5,\n",
       " reference_frame_size: {&#x27;0&#x27;: 1080, &#x27;1&#x27;: 1920}}\n",
       "--------------------------------------------------------------------------------\n",
       "type: {\n",
       "    Akeypoints: var * var * var * float64,\n",
       "    bboxes: var * var * float64,\n",
       "    scores: var * var * var * float64,\n",
       "    frame_number: int64,\n",
       "    reference_frame_size: {\n",
       "        &quot;0&quot;: int64,\n",
       "        &quot;1&quot;: int64\n",
       "    }\n",
       "}</pre>"
      ],
      "text/plain": [
       "<Record {Akeypoints: [[...]], bboxes: ..., ...} type='{Akeypoints: var * va...'>"
      ]
     },
     "execution_count": 24,
     "metadata": {},
     "output_type": "execute_result"
    }
   ],
   "source": [
    "a_ak[\"prediction\"][5]"
   ]
  },
  {
   "cell_type": "code",
   "execution_count": 25,
   "metadata": {},
   "outputs": [],
   "source": [
    "unique_tracking_ids_a = np.unique(ak.to_numpy(ak.flatten(cast(AwakwardArray, a_ak[\"trackings\"][\"id\"]))))"
   ]
  },
  {
   "cell_type": "code",
   "execution_count": null,
   "metadata": {},
   "outputs": [],
   "source": []
  }
 ],
 "metadata": {
  "kernelspec": {
   "display_name": "Python 3",
   "language": "python",
   "name": "python3"
  },
  "language_info": {
   "codemirror_mode": {
    "name": "ipython",
    "version": 3
   },
   "file_extension": ".py",
   "mimetype": "text/x-python",
   "name": "python",
   "nbconvert_exporter": "python",
   "pygments_lexer": "ipython3",
   "version": "3.12.8"
  }
 },
 "nbformat": 4,
 "nbformat_minor": 2
}
